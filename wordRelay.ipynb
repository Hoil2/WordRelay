{
  "nbformat": 4,
  "nbformat_minor": 0,
  "metadata": {
    "colab": {
      "name": "wordRelay.ipynb",
      "provenance": [],
      "collapsed_sections": []
    },
    "kernelspec": {
      "name": "python3",
      "display_name": "Python 3"
    },
    "language_info": {
      "name": "python"
    }
  },
  "cells": [
    {
      "cell_type": "code",
      "metadata": {
        "colab": {
          "base_uri": "https://localhost:8080/"
        },
        "id": "ajlYHxg8Nigg",
        "outputId": "c382ba37-1b20-4a7c-d22b-c30278a3ee1b"
      },
      "source": [
        "pip install jamo"
      ],
      "execution_count": 1,
      "outputs": [
        {
          "output_type": "stream",
          "name": "stdout",
          "text": [
            "Collecting jamo\n",
            "  Downloading jamo-0.4.1-py3-none-any.whl (9.5 kB)\n",
            "Installing collected packages: jamo\n",
            "Successfully installed jamo-0.4.1\n"
          ]
        }
      ]
    },
    {
      "cell_type": "code",
      "metadata": {
        "id": "yhQJT7cRC9Nv"
      },
      "source": [
        "import csv\n",
        "from jamo import h2j, j2hcj, j2h\n",
        "import random"
      ],
      "execution_count": null,
      "outputs": []
    },
    {
      "cell_type": "code",
      "metadata": {
        "id": "_FBM85YqRHFy"
      },
      "source": [
        "# 글자를 분해해서 반환\n",
        "def splitText(text):\n",
        "    return j2hcj(h2j(text))\n",
        "\n",
        "# 분해한 초성, 중성, 종성을 합쳐서 글자로 반환\n",
        "def combine(datas):\n",
        "    if len(datas) == 2 : \n",
        "        return j2h(datas[0], datas[1]) \n",
        "    elif len(datas) == 3: \n",
        "        return j2h(datas[0] ,datas[1] ,datas[2])"
      ],
      "execution_count": null,
      "outputs": []
    },
    {
      "cell_type": "code",
      "metadata": {
        "id": "noEprILj9CwJ"
      },
      "source": [
        "# 한국어 사전 불러오기\n",
        "f = open('drive/MyDrive/ColabResources/WordRelay/kr_korean2.csv','r')\n",
        "rdr = csv.reader(f)\n",
        "wordList = []\n",
        "for line in rdr:\n",
        "    if len(line[0]) != 1:\n",
        "        wordList.append(line[0])\n",
        "f.close()"
      ],
      "execution_count": null,
      "outputs": []
    },
    {
      "cell_type": "code",
      "metadata": {
        "id": "DqODricZGQcX"
      },
      "source": [
        "userWord = None\n",
        "aiWord = None\n",
        "usedWordList = []"
      ],
      "execution_count": null,
      "outputs": []
    },
    {
      "cell_type": "code",
      "metadata": {
        "id": "pUmpwWoLLSx0"
      },
      "source": [
        "# 마지막 글자를 두음법칙으로 변경한 단어리스트 반환\n",
        "def duumRule(word):\n",
        "    lastTexts = []\n",
        "    lastTexts.append(word[len(word)-1])\n",
        "    st = splitText(lastTexts[0])\n",
        "    if st[0] == 'ㄴ':\n",
        "        st = 'ㅇ'+st[1:]\n",
        "        lastTexts.append(combine(st))\n",
        "    elif st[0] == 'ㄹ':\n",
        "        st = 'ㅇ'+st[1:]\n",
        "        lastTexts.append(combine(st))\n",
        "        st = 'ㄴ'+st[1:]\n",
        "        lastTexts.append(combine(st))\n",
        "    return lastTexts"
      ],
      "execution_count": null,
      "outputs": []
    },
    {
      "cell_type": "code",
      "metadata": {
        "colab": {
          "base_uri": "https://localhost:8080/"
        },
        "id": "s_uwClzFwF8Q",
        "outputId": "7500a97e-7ee4-41c1-e636-80c4c5733144"
      },
      "source": [
        "# 두음법칙 함수 사용 ex)\n",
        "duumRule(\"유령\")"
      ],
      "execution_count": null,
      "outputs": [
        {
          "output_type": "execute_result",
          "data": {
            "text/plain": [
              "['령', '영', '녕']"
            ]
          },
          "metadata": {
            "tags": []
          },
          "execution_count": 7
        }
      ]
    },
    {
      "cell_type": "code",
      "metadata": {
        "id": "XG215CV5HzdF"
      },
      "source": [
        "def checkUserWord(userWord):\n",
        "    if aiWord != None:\n",
        "        if userWord[0] in duumRule(aiWord) and userWord in wordList and userWord not in usedWordList:\n",
        "            return True\n",
        "        else: # 틀린 이유 알려주기\n",
        "            if userWord[0] not in duumRule(aiWord):\n",
        "                print(\"글자가 이어지지 않습니다.\")\n",
        "            if userWord not in wordList:\n",
        "                print(\"사전에 없는 단어입니다.\")\n",
        "            if userWord in usedWordList:\n",
        "                print(\"이미 사용한 단어입니다.\")\n",
        "            return False\n",
        "    else:\n",
        "        return True # aiWord가 None일 때 그냥 넘기기"
      ],
      "execution_count": null,
      "outputs": []
    },
    {
      "cell_type": "code",
      "metadata": {
        "id": "LCtDbQO4O2Hq"
      },
      "source": [
        "# 이어지는 단어 찾아서 추가\n",
        "# 전부 추가했으면 랜덤으로 골라서 반환\n",
        "def aiWordRelay(userWord):\n",
        "    lastTexts = duumRule(userWord)\n",
        "    randWordList = []\n",
        "    for word in wordList:\n",
        "        if word[0] in lastTexts and word not in usedWordList: # 글자가 이어지고, 사용한 단어에 포함되지 않을 때\n",
        "            randWordList.append(word)\n",
        "    if len(randWordList) == 0:\n",
        "        return None\n",
        "    else:\n",
        "        randWord = randWordList[random.randrange(0, len(randWordList))]\n",
        "        return randWord"
      ],
      "execution_count": null,
      "outputs": []
    },
    {
      "cell_type": "code",
      "metadata": {
        "colab": {
          "base_uri": "https://localhost:8080/",
          "height": 984
        },
        "id": "CcTARt0kM4Mx",
        "outputId": "6e8d465d-aa4c-42fd-8b30-3a02851f8562"
      },
      "source": [
        "# 게임 시작\n",
        "while True:\n",
        "    userWord = input(\"단어를 입력하세요 : \")\n",
        "    # 정답을 입력했을 때\n",
        "    if checkUserWord(userWord):\n",
        "        usedWordList.append(userWord) # 사용한 단어에 추가\n",
        "        aiWord = aiWordRelay(userWord)\n",
        "        if aiWord == None:\n",
        "            print(\"당신이 이겼습니다.\")\n",
        "            break\n",
        "        usedWordList.append(aiWord) # 사용한 단어에 추가\n",
        "        print(\"AI : \", aiWord)\n",
        "    # 오답을 입력했을 때\n",
        "    else:\n",
        "        print(\"틀렸습니다.\")\n",
        "        retry = input(\"다시하시겠습니까? (예 or 아니오) : \")\n",
        "        if retry == '예': # 재시작\n",
        "            userWord = None\n",
        "            aiWord = None\n",
        "            usedWordList.clear()\n",
        "        elif retry == '아니오': # 끝내기\n",
        "            break\n",
        "    "
      ],
      "execution_count": null,
      "outputs": [
        {
          "output_type": "stream",
          "text": [
            "단어를 입력하세요 : 바다\n",
            "AI :  다듬잇감\n",
            "단어를 입력하세요 : 감나무\n",
            "AI :  무늬배벌\n",
            "단어를 입력하세요 : 벌레\n",
            "AI :  에이아이디\n",
            "단어를 입력하세요 : 디그리\n",
            "사전에 없는 단어입니다.\n",
            "틀렸습니다.\n",
            "다시하시겠습니까? (예 or 아니오) : 예\n",
            "단어를 입력하세요 : 수박\n",
            "AI :  박승무\n",
            "단어를 입력하세요 : 무좀\n",
            "AI :  좀놈\n",
            "단어를 입력하세요 : 놈놈\n",
            "사전에 없는 단어입니다.\n",
            "틀렸습니다.\n",
            "다시하시겠습니까? (예 or 아니오) : 예\n",
            "단어를 입력하세요 : 노무현\n",
            "AI :  현도일\n",
            "단어를 입력하세요 : 일본\n",
            "AI :  본생도\n"
          ],
          "name": "stdout"
        },
        {
          "output_type": "error",
          "ename": "KeyboardInterrupt",
          "evalue": "ignored",
          "traceback": [
            "\u001b[0;31m---------------------------------------------------------------------------\u001b[0m",
            "\u001b[0;31mKeyboardInterrupt\u001b[0m                         Traceback (most recent call last)",
            "\u001b[0;32m/usr/local/lib/python3.7/dist-packages/ipykernel/kernelbase.py\u001b[0m in \u001b[0;36m_input_request\u001b[0;34m(self, prompt, ident, parent, password)\u001b[0m\n\u001b[1;32m    728\u001b[0m             \u001b[0;32mtry\u001b[0m\u001b[0;34m:\u001b[0m\u001b[0;34m\u001b[0m\u001b[0;34m\u001b[0m\u001b[0m\n\u001b[0;32m--> 729\u001b[0;31m                 \u001b[0mident\u001b[0m\u001b[0;34m,\u001b[0m \u001b[0mreply\u001b[0m \u001b[0;34m=\u001b[0m \u001b[0mself\u001b[0m\u001b[0;34m.\u001b[0m\u001b[0msession\u001b[0m\u001b[0;34m.\u001b[0m\u001b[0mrecv\u001b[0m\u001b[0;34m(\u001b[0m\u001b[0mself\u001b[0m\u001b[0;34m.\u001b[0m\u001b[0mstdin_socket\u001b[0m\u001b[0;34m,\u001b[0m \u001b[0;36m0\u001b[0m\u001b[0;34m)\u001b[0m\u001b[0;34m\u001b[0m\u001b[0;34m\u001b[0m\u001b[0m\n\u001b[0m\u001b[1;32m    730\u001b[0m             \u001b[0;32mexcept\u001b[0m \u001b[0mException\u001b[0m\u001b[0;34m:\u001b[0m\u001b[0;34m\u001b[0m\u001b[0;34m\u001b[0m\u001b[0m\n",
            "\u001b[0;32m/usr/local/lib/python3.7/dist-packages/jupyter_client/session.py\u001b[0m in \u001b[0;36mrecv\u001b[0;34m(self, socket, mode, content, copy)\u001b[0m\n\u001b[1;32m    802\u001b[0m         \u001b[0;32mtry\u001b[0m\u001b[0;34m:\u001b[0m\u001b[0;34m\u001b[0m\u001b[0;34m\u001b[0m\u001b[0m\n\u001b[0;32m--> 803\u001b[0;31m             \u001b[0mmsg_list\u001b[0m \u001b[0;34m=\u001b[0m \u001b[0msocket\u001b[0m\u001b[0;34m.\u001b[0m\u001b[0mrecv_multipart\u001b[0m\u001b[0;34m(\u001b[0m\u001b[0mmode\u001b[0m\u001b[0;34m,\u001b[0m \u001b[0mcopy\u001b[0m\u001b[0;34m=\u001b[0m\u001b[0mcopy\u001b[0m\u001b[0;34m)\u001b[0m\u001b[0;34m\u001b[0m\u001b[0;34m\u001b[0m\u001b[0m\n\u001b[0m\u001b[1;32m    804\u001b[0m         \u001b[0;32mexcept\u001b[0m \u001b[0mzmq\u001b[0m\u001b[0;34m.\u001b[0m\u001b[0mZMQError\u001b[0m \u001b[0;32mas\u001b[0m \u001b[0me\u001b[0m\u001b[0;34m:\u001b[0m\u001b[0;34m\u001b[0m\u001b[0;34m\u001b[0m\u001b[0m\n",
            "\u001b[0;32m/usr/local/lib/python3.7/dist-packages/zmq/sugar/socket.py\u001b[0m in \u001b[0;36mrecv_multipart\u001b[0;34m(self, flags, copy, track)\u001b[0m\n\u001b[1;32m    582\u001b[0m         \"\"\"\n\u001b[0;32m--> 583\u001b[0;31m         \u001b[0mparts\u001b[0m \u001b[0;34m=\u001b[0m \u001b[0;34m[\u001b[0m\u001b[0mself\u001b[0m\u001b[0;34m.\u001b[0m\u001b[0mrecv\u001b[0m\u001b[0;34m(\u001b[0m\u001b[0mflags\u001b[0m\u001b[0;34m,\u001b[0m \u001b[0mcopy\u001b[0m\u001b[0;34m=\u001b[0m\u001b[0mcopy\u001b[0m\u001b[0;34m,\u001b[0m \u001b[0mtrack\u001b[0m\u001b[0;34m=\u001b[0m\u001b[0mtrack\u001b[0m\u001b[0;34m)\u001b[0m\u001b[0;34m]\u001b[0m\u001b[0;34m\u001b[0m\u001b[0;34m\u001b[0m\u001b[0m\n\u001b[0m\u001b[1;32m    584\u001b[0m         \u001b[0;31m# have first part already, only loop while more to receive\u001b[0m\u001b[0;34m\u001b[0m\u001b[0;34m\u001b[0m\u001b[0;34m\u001b[0m\u001b[0m\n",
            "\u001b[0;32mzmq/backend/cython/socket.pyx\u001b[0m in \u001b[0;36mzmq.backend.cython.socket.Socket.recv\u001b[0;34m()\u001b[0m\n",
            "\u001b[0;32mzmq/backend/cython/socket.pyx\u001b[0m in \u001b[0;36mzmq.backend.cython.socket.Socket.recv\u001b[0;34m()\u001b[0m\n",
            "\u001b[0;32mzmq/backend/cython/socket.pyx\u001b[0m in \u001b[0;36mzmq.backend.cython.socket._recv_copy\u001b[0;34m()\u001b[0m\n",
            "\u001b[0;32m/usr/local/lib/python3.7/dist-packages/zmq/backend/cython/checkrc.pxd\u001b[0m in \u001b[0;36mzmq.backend.cython.checkrc._check_rc\u001b[0;34m()\u001b[0m\n",
            "\u001b[0;31mKeyboardInterrupt\u001b[0m: ",
            "\nDuring handling of the above exception, another exception occurred:\n",
            "\u001b[0;31mKeyboardInterrupt\u001b[0m                         Traceback (most recent call last)",
            "\u001b[0;32m<ipython-input-10-a2920924e923>\u001b[0m in \u001b[0;36m<module>\u001b[0;34m()\u001b[0m\n\u001b[1;32m      1\u001b[0m \u001b[0;31m# 게임 시작\u001b[0m\u001b[0;34m\u001b[0m\u001b[0;34m\u001b[0m\u001b[0;34m\u001b[0m\u001b[0m\n\u001b[1;32m      2\u001b[0m \u001b[0;32mwhile\u001b[0m \u001b[0;32mTrue\u001b[0m\u001b[0;34m:\u001b[0m\u001b[0;34m\u001b[0m\u001b[0;34m\u001b[0m\u001b[0m\n\u001b[0;32m----> 3\u001b[0;31m     \u001b[0muserWord\u001b[0m \u001b[0;34m=\u001b[0m \u001b[0minput\u001b[0m\u001b[0;34m(\u001b[0m\u001b[0;34m\"단어를 입력하세요 : \"\u001b[0m\u001b[0;34m)\u001b[0m\u001b[0;34m\u001b[0m\u001b[0;34m\u001b[0m\u001b[0m\n\u001b[0m\u001b[1;32m      4\u001b[0m     \u001b[0;31m# 정답을 입력했을 때\u001b[0m\u001b[0;34m\u001b[0m\u001b[0;34m\u001b[0m\u001b[0;34m\u001b[0m\u001b[0m\n\u001b[1;32m      5\u001b[0m     \u001b[0;32mif\u001b[0m \u001b[0mcheckUserWord\u001b[0m\u001b[0;34m(\u001b[0m\u001b[0muserWord\u001b[0m\u001b[0;34m)\u001b[0m\u001b[0;34m:\u001b[0m\u001b[0;34m\u001b[0m\u001b[0;34m\u001b[0m\u001b[0m\n",
            "\u001b[0;32m/usr/local/lib/python3.7/dist-packages/ipykernel/kernelbase.py\u001b[0m in \u001b[0;36mraw_input\u001b[0;34m(self, prompt)\u001b[0m\n\u001b[1;32m    702\u001b[0m             \u001b[0mself\u001b[0m\u001b[0;34m.\u001b[0m\u001b[0m_parent_ident\u001b[0m\u001b[0;34m,\u001b[0m\u001b[0;34m\u001b[0m\u001b[0;34m\u001b[0m\u001b[0m\n\u001b[1;32m    703\u001b[0m             \u001b[0mself\u001b[0m\u001b[0;34m.\u001b[0m\u001b[0m_parent_header\u001b[0m\u001b[0;34m,\u001b[0m\u001b[0;34m\u001b[0m\u001b[0;34m\u001b[0m\u001b[0m\n\u001b[0;32m--> 704\u001b[0;31m             \u001b[0mpassword\u001b[0m\u001b[0;34m=\u001b[0m\u001b[0;32mFalse\u001b[0m\u001b[0;34m,\u001b[0m\u001b[0;34m\u001b[0m\u001b[0;34m\u001b[0m\u001b[0m\n\u001b[0m\u001b[1;32m    705\u001b[0m         )\n\u001b[1;32m    706\u001b[0m \u001b[0;34m\u001b[0m\u001b[0m\n",
            "\u001b[0;32m/usr/local/lib/python3.7/dist-packages/ipykernel/kernelbase.py\u001b[0m in \u001b[0;36m_input_request\u001b[0;34m(self, prompt, ident, parent, password)\u001b[0m\n\u001b[1;32m    732\u001b[0m             \u001b[0;32mexcept\u001b[0m \u001b[0mKeyboardInterrupt\u001b[0m\u001b[0;34m:\u001b[0m\u001b[0;34m\u001b[0m\u001b[0;34m\u001b[0m\u001b[0m\n\u001b[1;32m    733\u001b[0m                 \u001b[0;31m# re-raise KeyboardInterrupt, to truncate traceback\u001b[0m\u001b[0;34m\u001b[0m\u001b[0;34m\u001b[0m\u001b[0;34m\u001b[0m\u001b[0m\n\u001b[0;32m--> 734\u001b[0;31m                 \u001b[0;32mraise\u001b[0m \u001b[0mKeyboardInterrupt\u001b[0m\u001b[0;34m\u001b[0m\u001b[0;34m\u001b[0m\u001b[0m\n\u001b[0m\u001b[1;32m    735\u001b[0m             \u001b[0;32melse\u001b[0m\u001b[0;34m:\u001b[0m\u001b[0;34m\u001b[0m\u001b[0;34m\u001b[0m\u001b[0m\n\u001b[1;32m    736\u001b[0m                 \u001b[0;32mbreak\u001b[0m\u001b[0;34m\u001b[0m\u001b[0;34m\u001b[0m\u001b[0m\n",
            "\u001b[0;31mKeyboardInterrupt\u001b[0m: "
          ]
        }
      ]
    }
  ]
}